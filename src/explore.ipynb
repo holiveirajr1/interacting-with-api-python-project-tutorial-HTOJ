{
    "cells": [
        {
            "cell_type": "markdown",
            "metadata": {},
            "source": [
                "# Explore here"
            ]
        },
        {
            "cell_type": "code",
            "execution_count": 18,
            "metadata": {},
            "outputs": [],
            "source": [
                "import os\n",
                "import pandas as pd\n",
                "import seaborn as sns\n",
                "import matplotlib.pyplot as plt\n",
                "from dotenv import load_dotenv\n",
                "\n",
                "# load the .env file variables\n",
                "load_dotenv()\n",
                "client_id = os.environ.get('CLIENT_ID')\n",
                "client_secret = os.environ.get('CLIENT_SECRET')\n"
            ]
        },
        {
            "cell_type": "code",
            "execution_count": 19,
            "metadata": {},
            "outputs": [],
            "source": [
                "import spotipy\n",
                "from spotipy.oauth2 import SpotifyClientCredentials\n",
                "\n",
                "sp = spotipy.Spotify(auth_manager = SpotifyClientCredentials(client_id = client_id,\n",
                "                                                              client_secret = client_secret))"
            ]
        },
        {
            "cell_type": "code",
            "execution_count": 25,
            "metadata": {},
            "outputs": [],
            "source": [
                "# Artist ID for Drake\n",
                "artist_id = \"3TVXtAsR1Inumwj472S9r4\"\n",
                "\n",
                "# Fetch top tracks\n",
                "response = sp.artist_top_tracks(artist_id)\n",
                "\n",
                "if response:\n",
                "    # Get the top tracks (list of tracks)\n",
                "    tracks = response['tracks']\n",
                "    \n",
                "    # Extract relevant data: name, popularity, duration (in minutes)\n",
                "    tracks = [\n",
                "        {\n",
                "            \"name\": track[\"name\"],\n",
                "            \"popularity\": track[\"popularity\"],\n",
                "            \"duration\": (track[\"duration_ms\"] / (1000 * 60))  # Convert duration to minutes\n",
                "        }\n",
                "        for track in tracks\n",
                "    ]\n"
            ]
        },
        {
            "cell_type": "code",
            "execution_count": 26,
            "metadata": {},
            "outputs": [
                {
                    "name": "stdout",
                    "output_type": "stream",
                    "text": [
                        "         name  popularity  duration\n",
                        "3    She Will          75  5.097333\n",
                        "9   Headlines          77  3.933100\n",
                        "8  God's Plan          78  3.316217\n"
                    ]
                }
            ],
            "source": [
                "import pandas as pd\n",
                "\n",
                "tracks_df = pd.DataFrame.from_records(tracks)\n",
                "tracks_df.sort_values([\"popularity\"], inplace = True)\n",
                "\n",
                "print(tracks_df.head(3))"
            ]
        },
        {
            "cell_type": "code",
            "execution_count": 28,
            "metadata": {},
            "outputs": [
                {
                    "name": "stdout",
                    "output_type": "stream",
                    "text": [
                        "                              name  popularity  duration\n",
                        "3                         She Will          75  5.097333\n",
                        "9                        Headlines          77  3.933100\n",
                        "8                       God's Plan          78  3.316217\n",
                        "7                     Passionfruit          78  4.982333\n",
                        "6  WAIT FOR U (feat. Drake & Tems)          79  3.164883\n"
                    ]
                }
            ],
            "source": [
                "print(tracks_df.head())"
            ]
        },
        {
            "cell_type": "code",
            "execution_count": 29,
            "metadata": {},
            "outputs": [
                {
                    "name": "stdout",
                    "output_type": "stream",
                    "text": [
                        "Index(['name', 'popularity', 'duration'], dtype='object')\n"
                    ]
                }
            ],
            "source": [
                "print(tracks_df.columns)"
            ]
        },
        {
            "cell_type": "code",
            "execution_count": 30,
            "metadata": {},
            "outputs": [
                {
                    "data": {
                        "image/png": "[encoded data removed]",
                        "text/plain": [
                            "<Figure size 640x480 with 1 Axes>"
                        ]
                    },
                    "metadata": {},
                    "output_type": "display_data"
                }
            ],
            "source": [
                "scatter_plot = sns.scatterplot(data = tracks_df, x = \"popularity\", y = \"duration\")\n",
                "fig = scatter_plot.get_figure()"
            ]
        }
    ],
    "metadata": {
        "kernelspec": {
            "display_name": "Python 3",
            "language": "python",
            "name": "python3"
        },
        "language_info": {
            "codemirror_mode": {
                "name": "ipython",
                "version": 3
            },
            "file_extension": ".py",
            "mimetype": "text/x-python",
            "name": "python",
            "nbconvert_exporter": "python",
            "pygments_lexer": "ipython3",
            "version": "3.11.4"
        },
        "orig_nbformat": 4
    },
    "nbformat": 4,
    "nbformat_minor": 2
}
